{
 "cells": [
  {
   "cell_type": "markdown",
   "metadata": {},
   "source": [
    "# Introduction"
   ]
  },
  {
   "cell_type": "markdown",
   "metadata": {},
   "source": [
    "## What is scraping the web?"
   ]
  },
  {
   "cell_type": "markdown",
   "metadata": {},
   "source": []
  },
  {
   "cell_type": "markdown",
   "metadata": {},
   "source": [
    "## Why scrape data?"
   ]
  },
  {
   "cell_type": "markdown",
   "metadata": {},
   "source": []
  },
  {
   "cell_type": "markdown",
   "metadata": {},
   "source": [
    "## Is this Legal/ Ethical?"
   ]
  },
  {
   "cell_type": "markdown",
   "metadata": {},
   "source": []
  },
  {
   "cell_type": "markdown",
   "metadata": {},
   "source": [
    "# Programming:"
   ]
  },
  {
   "cell_type": "code",
   "execution_count": 1,
   "metadata": {},
   "outputs": [],
   "source": [
    "# Import packages\n",
    "\n",
    "# Webscraping:\n",
    "from bs4 import BeautifulSoup\n",
    "\n",
    "# access the web:\n",
    "import requests\n",
    "\n",
    "# data formnatting\n",
    "import pandas as pd\n",
    "\n",
    "# text searching:\n",
    "import re"
   ]
  },
  {
   "cell_type": "markdown",
   "metadata": {},
   "source": [
    "# Making the Soup\n",
    "https://beautiful-soup-4.readthedocs.io/en/latest/#making-the-soup"
   ]
  },
  {
   "cell_type": "code",
   "execution_count": 2,
   "metadata": {},
   "outputs": [
    {
     "name": "stdout",
     "output_type": "stream",
     "text": [
      "['<!DOCTYPE html>\\n', '\\n', '<html>\\n', '<body>\\n', '\\n', '<h1>My First Heading</h1>\\n', '\\n', '<p>My first paragraph.</p>\\n', '\\n', '<h1>My Second Heading</h1>\\n', '\\n', '<p>My Second paragraph.</p>\\n', '\\n', '<h1>My Third Heading</h1>\\n', '\\n', '<p>My Third paragraph.</p>\\n', '\\n', '</body>\\n', '</html>\\n']\n"
     ]
    }
   ],
   "source": [
    "with open(\"simple_webpage.html\") as f:\n",
    "    _txt_file = f.readlines()\n",
    "print(_txt_file)\n",
    "# mess:"
   ]
  },
  {
   "cell_type": "code",
   "execution_count": 3,
   "metadata": {},
   "outputs": [
    {
     "name": "stdout",
     "output_type": "stream",
     "text": [
      "<!DOCTYPE html>\n",
      "<html>\n",
      "<body>\n",
      "<h1>My First Heading</h1>\n",
      "<p>My first paragraph.</p>\n",
      "<h1>My Second Heading</h1>\n",
      "<p>My Second paragraph.</p>\n",
      "<h1>My Third Heading</h1>\n",
      "<p>My Third paragraph.</p>\n",
      "</body>\n",
      "</html>\n",
      "\n"
     ]
    }
   ],
   "source": [
    "with open(\"simple_webpage.html\") as f:\n",
    "    soup = BeautifulSoup(f)\n",
    "print(soup)\n",
    "# not mess:"
   ]
  },
  {
   "cell_type": "code",
   "execution_count": null,
   "metadata": {},
   "outputs": [],
   "source": [
    "print(type(soup))\n",
    "# a soup object is a?"
   ]
  },
  {
   "cell_type": "code",
   "execution_count": null,
   "metadata": {},
   "outputs": [],
   "source": [
    "print(vars(soup))\n",
    "# what do they have?"
   ]
  },
  {
   "cell_type": "code",
   "execution_count": 4,
   "metadata": {},
   "outputs": [
    {
     "name": "stdout",
     "output_type": "stream",
     "text": [
      "['html', <html>\n",
      "<body>\n",
      "<h1>My First Heading</h1>\n",
      "<p>My first paragraph.</p>\n",
      "<h1>My Second Heading</h1>\n",
      "<p>My Second paragraph.</p>\n",
      "<h1>My Third Heading</h1>\n",
      "<p>My Third paragraph.</p>\n",
      "</body>\n",
      "</html>, '\\n']\n"
     ]
    }
   ],
   "source": [
    "print(soup.contents)"
   ]
  },
  {
   "cell_type": "code",
   "execution_count": 5,
   "metadata": {},
   "outputs": [
    {
     "data": {
      "text/plain": [
       "<h1>My First Heading</h1>"
      ]
     },
     "execution_count": 5,
     "metadata": {},
     "output_type": "execute_result"
    }
   ],
   "source": [
    "soup.h1"
   ]
  },
  {
   "cell_type": "code",
   "execution_count": 6,
   "metadata": {},
   "outputs": [
    {
     "data": {
      "text/plain": [
       "<p>My first paragraph.</p>"
      ]
     },
     "execution_count": 6,
     "metadata": {},
     "output_type": "execute_result"
    }
   ],
   "source": [
    "soup.p"
   ]
  },
  {
   "cell_type": "markdown",
   "metadata": {},
   "source": [
    "# Kinds of objects\n",
    "https://beautiful-soup-4.readthedocs.io/en/latest/#kinds-of-objects"
   ]
  },
  {
   "cell_type": "markdown",
   "metadata": {},
   "source": [
    "## Name"
   ]
  },
  {
   "cell_type": "code",
   "execution_count": 7,
   "metadata": {},
   "outputs": [
    {
     "data": {
      "text/plain": [
       "'h1'"
      ]
     },
     "execution_count": 7,
     "metadata": {},
     "output_type": "execute_result"
    }
   ],
   "source": [
    "soup.h1.name"
   ]
  },
  {
   "cell_type": "markdown",
   "metadata": {},
   "source": [
    "## Attributes"
   ]
  },
  {
   "cell_type": "code",
   "execution_count": 8,
   "metadata": {},
   "outputs": [
    {
     "ename": "KeyError",
     "evalue": "'class'",
     "output_type": "error",
     "traceback": [
      "\u001b[0;31m---------------------------------------------------------------------------\u001b[0m",
      "\u001b[0;31mKeyError\u001b[0m                                  Traceback (most recent call last)",
      "\u001b[0;32m<ipython-input-8-992d7318d6e3>\u001b[0m in \u001b[0;36m<module>\u001b[0;34m\u001b[0m\n\u001b[0;32m----> 1\u001b[0;31m \u001b[0msoup\u001b[0m\u001b[0;34m.\u001b[0m\u001b[0mh1\u001b[0m\u001b[0;34m[\u001b[0m\u001b[0;34m'class'\u001b[0m\u001b[0;34m]\u001b[0m\u001b[0;34m\u001b[0m\u001b[0;34m\u001b[0m\u001b[0m\n\u001b[0m\u001b[1;32m      2\u001b[0m \u001b[0;31m# Produces Key Error\u001b[0m\u001b[0;34m\u001b[0m\u001b[0;34m\u001b[0m\u001b[0;34m\u001b[0m\u001b[0m\n\u001b[1;32m      3\u001b[0m \u001b[0;31m# So add class to html variable\u001b[0m\u001b[0;34m\u001b[0m\u001b[0;34m\u001b[0m\u001b[0;34m\u001b[0m\u001b[0m\n",
      "\u001b[0;32m~/.pyenv/versions/anaconda3-2019.10/lib/python3.7/site-packages/bs4/element.py\u001b[0m in \u001b[0;36m__getitem__\u001b[0;34m(self, key)\u001b[0m\n\u001b[1;32m    969\u001b[0m         \"\"\"tag[key] returns the value of the 'key' attribute for the tag,\n\u001b[1;32m    970\u001b[0m         and throws an exception if it's not there.\"\"\"\n\u001b[0;32m--> 971\u001b[0;31m         \u001b[0;32mreturn\u001b[0m \u001b[0mself\u001b[0m\u001b[0;34m.\u001b[0m\u001b[0mattrs\u001b[0m\u001b[0;34m[\u001b[0m\u001b[0mkey\u001b[0m\u001b[0;34m]\u001b[0m\u001b[0;34m\u001b[0m\u001b[0;34m\u001b[0m\u001b[0m\n\u001b[0m\u001b[1;32m    972\u001b[0m \u001b[0;34m\u001b[0m\u001b[0m\n\u001b[1;32m    973\u001b[0m     \u001b[0;32mdef\u001b[0m \u001b[0m__iter__\u001b[0m\u001b[0;34m(\u001b[0m\u001b[0mself\u001b[0m\u001b[0;34m)\u001b[0m\u001b[0;34m:\u001b[0m\u001b[0;34m\u001b[0m\u001b[0;34m\u001b[0m\u001b[0m\n",
      "\u001b[0;31mKeyError\u001b[0m: 'class'"
     ]
    }
   ],
   "source": [
    "soup.h1['class']\n",
    "# Produces Key Error\n",
    "# So add class to html variable"
   ]
  },
  {
   "cell_type": "code",
   "execution_count": 9,
   "metadata": {},
   "outputs": [
    {
     "ename": "KeyError",
     "evalue": "'id'",
     "output_type": "error",
     "traceback": [
      "\u001b[0;31m---------------------------------------------------------------------------\u001b[0m",
      "\u001b[0;31mKeyError\u001b[0m                                  Traceback (most recent call last)",
      "\u001b[0;32m<ipython-input-9-14f62635730d>\u001b[0m in \u001b[0;36m<module>\u001b[0;34m\u001b[0m\n\u001b[0;32m----> 1\u001b[0;31m \u001b[0msoup\u001b[0m\u001b[0;34m.\u001b[0m\u001b[0mh1\u001b[0m\u001b[0;34m[\u001b[0m\u001b[0;34m'id'\u001b[0m\u001b[0;34m]\u001b[0m\u001b[0;34m\u001b[0m\u001b[0;34m\u001b[0m\u001b[0m\n\u001b[0m",
      "\u001b[0;32m~/.pyenv/versions/anaconda3-2019.10/lib/python3.7/site-packages/bs4/element.py\u001b[0m in \u001b[0;36m__getitem__\u001b[0;34m(self, key)\u001b[0m\n\u001b[1;32m    969\u001b[0m         \"\"\"tag[key] returns the value of the 'key' attribute for the tag,\n\u001b[1;32m    970\u001b[0m         and throws an exception if it's not there.\"\"\"\n\u001b[0;32m--> 971\u001b[0;31m         \u001b[0;32mreturn\u001b[0m \u001b[0mself\u001b[0m\u001b[0;34m.\u001b[0m\u001b[0mattrs\u001b[0m\u001b[0;34m[\u001b[0m\u001b[0mkey\u001b[0m\u001b[0;34m]\u001b[0m\u001b[0;34m\u001b[0m\u001b[0;34m\u001b[0m\u001b[0m\n\u001b[0m\u001b[1;32m    972\u001b[0m \u001b[0;34m\u001b[0m\u001b[0m\n\u001b[1;32m    973\u001b[0m     \u001b[0;32mdef\u001b[0m \u001b[0m__iter__\u001b[0m\u001b[0;34m(\u001b[0m\u001b[0mself\u001b[0m\u001b[0;34m)\u001b[0m\u001b[0;34m:\u001b[0m\u001b[0;34m\u001b[0m\u001b[0;34m\u001b[0m\u001b[0m\n",
      "\u001b[0;31mKeyError\u001b[0m: 'id'"
     ]
    }
   ],
   "source": [
    "soup.h1['id']"
   ]
  },
  {
   "cell_type": "markdown",
   "metadata": {},
   "source": [
    "## Switch to actor Example"
   ]
  },
  {
   "cell_type": "code",
   "execution_count": 10,
   "metadata": {},
   "outputs": [
    {
     "name": "stdout",
     "output_type": "stream",
     "text": [
      "<!DOCTYPE html>\n",
      "<html>\n",
      "<body>\n",
      "<div>\n",
      "<h1 class=\"title\" id=\"movie_title\">The Irishman</h1>\n",
      "<p>A paragraph of text about The Irishman, directed by <a href=\"https://www.imdb.com/name/nm0000217/\">Martin Scorsese</a>.</p>\n",
      "</div>\n",
      "<div class=\"table\" id=\"cast\">\n",
      "<h2>The Cast</h2>\n",
      "<table>\n",
      "<tr>\n",
      "<td><a href=\"\">Dave</a></td><td>Lead</td>\n",
      "</tr>\n",
      "<tr>\n",
      "<td>Barry</td><td>Supporting Role</td>\n",
      "</tr>\n",
      "<tr>\n",
      "<td>Alejandro</td><td>Supporting Role</td>\n",
      "</tr>\n",
      "</table>\n",
      "</div>\n",
      "<div>\n",
      "<h1>Storyline</h1>\n",
      "<p>My Third paragraph.</p>\n",
      "</div>\n",
      "</body>\n",
      "</html>\n"
     ]
    }
   ],
   "source": [
    "with open(\"example_actor_webpage.html\") as f:\n",
    "    soup = BeautifulSoup(f)\n",
    "print(soup)\n",
    "# now that our example has more attributes ..."
   ]
  },
  {
   "cell_type": "code",
   "execution_count": 11,
   "metadata": {},
   "outputs": [
    {
     "data": {
      "text/plain": [
       "['title']"
      ]
     },
     "execution_count": 11,
     "metadata": {},
     "output_type": "execute_result"
    }
   ],
   "source": [
    "soup.h1['class']"
   ]
  },
  {
   "cell_type": "markdown",
   "metadata": {},
   "source": [
    "## Text"
   ]
  },
  {
   "cell_type": "code",
   "execution_count": 12,
   "metadata": {},
   "outputs": [
    {
     "data": {
      "text/plain": [
       "'The Irishman'"
      ]
     },
     "execution_count": 12,
     "metadata": {},
     "output_type": "execute_result"
    }
   ],
   "source": [
    "soup.h1.text"
   ]
  },
  {
   "cell_type": "markdown",
   "metadata": {},
   "source": [
    "## Links (an attribute)"
   ]
  },
  {
   "cell_type": "code",
   "execution_count": 13,
   "metadata": {},
   "outputs": [
    {
     "data": {
      "text/plain": [
       "'Martin Scorsese'"
      ]
     },
     "execution_count": 13,
     "metadata": {},
     "output_type": "execute_result"
    }
   ],
   "source": [
    "soup.a.text"
   ]
  },
  {
   "cell_type": "code",
   "execution_count": 14,
   "metadata": {},
   "outputs": [
    {
     "data": {
      "text/plain": [
       "'https://www.imdb.com/name/nm0000217/'"
      ]
     },
     "execution_count": 14,
     "metadata": {},
     "output_type": "execute_result"
    }
   ],
   "source": [
    "soup.a['href']"
   ]
  },
  {
   "cell_type": "markdown",
   "metadata": {},
   "source": [
    "# Navigating the tree"
   ]
  },
  {
   "cell_type": "markdown",
   "metadata": {},
   "source": [
    "## Going Down"
   ]
  },
  {
   "cell_type": "markdown",
   "metadata": {},
   "source": [
    "### Children"
   ]
  },
  {
   "cell_type": "code",
   "execution_count": 15,
   "metadata": {},
   "outputs": [
    {
     "data": {
      "text/plain": [
       "['\\n',\n",
       " <h1 class=\"title\" id=\"movie_title\">The Irishman</h1>,\n",
       " '\\n',\n",
       " <p>A paragraph of text about The Irishman, directed by <a href=\"https://www.imdb.com/name/nm0000217/\">Martin Scorsese</a>.</p>,\n",
       " '\\n']"
      ]
     },
     "execution_count": 15,
     "metadata": {},
     "output_type": "execute_result"
    }
   ],
   "source": [
    "list(soup.div.children)"
   ]
  },
  {
   "cell_type": "code",
   "execution_count": 16,
   "metadata": {},
   "outputs": [
    {
     "name": "stdout",
     "output_type": "stream",
     "text": [
      "\n",
      "\n",
      "<h1 class=\"title\" id=\"movie_title\">The Irishman</h1>\n",
      "\n",
      "\n",
      "<p>A paragraph of text about The Irishman, directed by <a href=\"https://www.imdb.com/name/nm0000217/\">Martin Scorsese</a>.</p>\n",
      "\n",
      "\n"
     ]
    }
   ],
   "source": [
    "for child in soup.div.children:\n",
    "    print(child)"
   ]
  },
  {
   "cell_type": "markdown",
   "metadata": {},
   "source": [
    "### Descendants\n",
    "Descendant are almost the same as children yet there's one major difference:\n"
   ]
  },
  {
   "cell_type": "code",
   "execution_count": 17,
   "metadata": {},
   "outputs": [
    {
     "name": "stdout",
     "output_type": "stream",
     "text": [
      "\n",
      "\n",
      "<h1 class=\"title\" id=\"movie_title\">The Irishman</h1>\n",
      "The Irishman\n",
      "\n",
      "\n",
      "<p>A paragraph of text about The Irishman, directed by <a href=\"https://www.imdb.com/name/nm0000217/\">Martin Scorsese</a>.</p>\n",
      "A paragraph of text about The Irishman, directed by \n",
      "<a href=\"https://www.imdb.com/name/nm0000217/\">Martin Scorsese</a>\n",
      "Martin Scorsese\n",
      ".\n",
      "\n",
      "\n"
     ]
    }
   ],
   "source": [
    "for child in soup.div.descendants:\n",
    "    print(child)"
   ]
  },
  {
   "cell_type": "markdown",
   "metadata": {},
   "source": [
    "## Going up"
   ]
  },
  {
   "cell_type": "code",
   "execution_count": 18,
   "metadata": {},
   "outputs": [
    {
     "data": {
      "text/plain": [
       "<p>A paragraph of text about The Irishman, directed by <a href=\"https://www.imdb.com/name/nm0000217/\">Martin Scorsese</a>.</p>"
      ]
     },
     "execution_count": 18,
     "metadata": {},
     "output_type": "execute_result"
    }
   ],
   "source": [
    "soup.a.parent"
   ]
  },
  {
   "cell_type": "code",
   "execution_count": 19,
   "metadata": {},
   "outputs": [
    {
     "data": {
      "text/plain": [
       "[<p>A paragraph of text about The Irishman, directed by <a href=\"https://www.imdb.com/name/nm0000217/\">Martin Scorsese</a>.</p>,\n",
       " <div>\n",
       " <h1 class=\"title\" id=\"movie_title\">The Irishman</h1>\n",
       " <p>A paragraph of text about The Irishman, directed by <a href=\"https://www.imdb.com/name/nm0000217/\">Martin Scorsese</a>.</p>\n",
       " </div>,\n",
       " <body>\n",
       " <div>\n",
       " <h1 class=\"title\" id=\"movie_title\">The Irishman</h1>\n",
       " <p>A paragraph of text about The Irishman, directed by <a href=\"https://www.imdb.com/name/nm0000217/\">Martin Scorsese</a>.</p>\n",
       " </div>\n",
       " <div class=\"table\" id=\"cast\">\n",
       " <h2>The Cast</h2>\n",
       " <table>\n",
       " <tr>\n",
       " <td><a href=\"\">Dave</a></td><td>Lead</td>\n",
       " </tr>\n",
       " <tr>\n",
       " <td>Barry</td><td>Supporting Role</td>\n",
       " </tr>\n",
       " <tr>\n",
       " <td>Alejandro</td><td>Supporting Role</td>\n",
       " </tr>\n",
       " </table>\n",
       " </div>\n",
       " <div>\n",
       " <h1>Storyline</h1>\n",
       " <p>My Third paragraph.</p>\n",
       " </div>\n",
       " </body>,\n",
       " <html>\n",
       " <body>\n",
       " <div>\n",
       " <h1 class=\"title\" id=\"movie_title\">The Irishman</h1>\n",
       " <p>A paragraph of text about The Irishman, directed by <a href=\"https://www.imdb.com/name/nm0000217/\">Martin Scorsese</a>.</p>\n",
       " </div>\n",
       " <div class=\"table\" id=\"cast\">\n",
       " <h2>The Cast</h2>\n",
       " <table>\n",
       " <tr>\n",
       " <td><a href=\"\">Dave</a></td><td>Lead</td>\n",
       " </tr>\n",
       " <tr>\n",
       " <td>Barry</td><td>Supporting Role</td>\n",
       " </tr>\n",
       " <tr>\n",
       " <td>Alejandro</td><td>Supporting Role</td>\n",
       " </tr>\n",
       " </table>\n",
       " </div>\n",
       " <div>\n",
       " <h1>Storyline</h1>\n",
       " <p>My Third paragraph.</p>\n",
       " </div>\n",
       " </body>\n",
       " </html>,\n",
       " <!DOCTYPE html>\n",
       " <html>\n",
       " <body>\n",
       " <div>\n",
       " <h1 class=\"title\" id=\"movie_title\">The Irishman</h1>\n",
       " <p>A paragraph of text about The Irishman, directed by <a href=\"https://www.imdb.com/name/nm0000217/\">Martin Scorsese</a>.</p>\n",
       " </div>\n",
       " <div class=\"table\" id=\"cast\">\n",
       " <h2>The Cast</h2>\n",
       " <table>\n",
       " <tr>\n",
       " <td><a href=\"\">Dave</a></td><td>Lead</td>\n",
       " </tr>\n",
       " <tr>\n",
       " <td>Barry</td><td>Supporting Role</td>\n",
       " </tr>\n",
       " <tr>\n",
       " <td>Alejandro</td><td>Supporting Role</td>\n",
       " </tr>\n",
       " </table>\n",
       " </div>\n",
       " <div>\n",
       " <h1>Storyline</h1>\n",
       " <p>My Third paragraph.</p>\n",
       " </div>\n",
       " </body>\n",
       " </html>]"
      ]
     },
     "execution_count": 19,
     "metadata": {},
     "output_type": "execute_result"
    }
   ],
   "source": [
    "list(soup.a.parents)"
   ]
  },
  {
   "cell_type": "code",
   "execution_count": 20,
   "metadata": {},
   "outputs": [
    {
     "data": {
      "text/plain": [
       "<p>A paragraph of text about The Irishman, directed by <a href=\"https://www.imdb.com/name/nm0000217/\">Martin Scorsese</a>.</p>"
      ]
     },
     "execution_count": 20,
     "metadata": {},
     "output_type": "execute_result"
    }
   ],
   "source": [
    "list(soup.a.parents)[0]"
   ]
  },
  {
   "cell_type": "markdown",
   "metadata": {},
   "source": [
    "## Going Sideways"
   ]
  },
  {
   "cell_type": "code",
   "execution_count": 21,
   "metadata": {},
   "outputs": [
    {
     "data": {
      "text/plain": [
       "[<td>Lead</td>, '\\n']"
      ]
     },
     "execution_count": 21,
     "metadata": {},
     "output_type": "execute_result"
    }
   ],
   "source": [
    "list(soup.table.tr.td.next_siblings)"
   ]
  },
  {
   "cell_type": "code",
   "execution_count": 22,
   "metadata": {},
   "outputs": [
    {
     "ename": "AttributeError",
     "evalue": "'NavigableString' object has no attribute 'text'",
     "output_type": "error",
     "traceback": [
      "\u001b[0;31m---------------------------------------------------------------------------\u001b[0m",
      "\u001b[0;31mAttributeError\u001b[0m                            Traceback (most recent call last)",
      "\u001b[0;32m<ipython-input-22-d739f7974b85>\u001b[0m in \u001b[0;36m<module>\u001b[0;34m\u001b[0m\n\u001b[1;32m      1\u001b[0m \u001b[0;32mfor\u001b[0m \u001b[0mrow\u001b[0m \u001b[0;32min\u001b[0m \u001b[0msoup\u001b[0m\u001b[0;34m.\u001b[0m\u001b[0mtable\u001b[0m\u001b[0;34m.\u001b[0m\u001b[0mcontents\u001b[0m\u001b[0;34m:\u001b[0m\u001b[0;34m\u001b[0m\u001b[0;34m\u001b[0m\u001b[0m\n\u001b[0;32m----> 2\u001b[0;31m     \u001b[0;32mif\u001b[0m \u001b[0mrow\u001b[0m\u001b[0;34m.\u001b[0m\u001b[0mtext\u001b[0m \u001b[0;34m==\u001b[0m \u001b[0;34m'Lead'\u001b[0m\u001b[0;34m:\u001b[0m\u001b[0;34m\u001b[0m\u001b[0;34m\u001b[0m\u001b[0m\n\u001b[0m\u001b[1;32m      3\u001b[0m         \u001b[0mprint\u001b[0m\u001b[0;34m(\u001b[0m\u001b[0mrow\u001b[0m\u001b[0;34m)\u001b[0m\u001b[0;34m\u001b[0m\u001b[0;34m\u001b[0m\u001b[0m\n\u001b[1;32m      4\u001b[0m \u001b[0;31m# Produces Attribute Errpr\u001b[0m\u001b[0;34m\u001b[0m\u001b[0;34m\u001b[0m\u001b[0;34m\u001b[0m\u001b[0m\n",
      "\u001b[0;32m~/.pyenv/versions/anaconda3-2019.10/lib/python3.7/site-packages/bs4/element.py\u001b[0m in \u001b[0;36m__getattr__\u001b[0;34m(self, attr)\u001b[0m\n\u001b[1;32m    644\u001b[0m             raise AttributeError(\n\u001b[1;32m    645\u001b[0m                 \"'%s' object has no attribute '%s'\" % (\n\u001b[0;32m--> 646\u001b[0;31m                     self.__class__.__name__, attr))\n\u001b[0m\u001b[1;32m    647\u001b[0m \u001b[0;34m\u001b[0m\u001b[0m\n\u001b[1;32m    648\u001b[0m     \u001b[0;32mdef\u001b[0m \u001b[0moutput_ready\u001b[0m\u001b[0;34m(\u001b[0m\u001b[0mself\u001b[0m\u001b[0;34m,\u001b[0m \u001b[0mformatter\u001b[0m\u001b[0;34m=\u001b[0m\u001b[0;34m\"minimal\"\u001b[0m\u001b[0;34m)\u001b[0m\u001b[0;34m:\u001b[0m\u001b[0;34m\u001b[0m\u001b[0;34m\u001b[0m\u001b[0m\n",
      "\u001b[0;31mAttributeError\u001b[0m: 'NavigableString' object has no attribute 'text'"
     ]
    }
   ],
   "source": [
    "for row in soup.table.contents:\n",
    "    if row.text == 'Lead':\n",
    "        print(row)\n",
    "# Produces Attribute Errpr"
   ]
  },
  {
   "cell_type": "markdown",
   "metadata": {},
   "source": [
    "BS4 Gives an error because not all the objects it's returning have a 'text' attribute. Namely the empty strings. You could easily shortcut this with an if statement or try/ except, but that would stretch this class."
   ]
  },
  {
   "cell_type": "code",
   "execution_count": 23,
   "metadata": {},
   "outputs": [
    {
     "name": "stdout",
     "output_type": "stream",
     "text": [
      "Dave\n"
     ]
    }
   ],
   "source": [
    "for row in soup.table.tr.td.next_siblings:\n",
    "    if 'Lead' in row.string:\n",
    "        print(row.previous_sibling.text)"
   ]
  },
  {
   "cell_type": "code",
   "execution_count": 24,
   "metadata": {},
   "outputs": [
    {
     "data": {
      "text/plain": [
       "'\\n'"
      ]
     },
     "execution_count": 24,
     "metadata": {},
     "output_type": "execute_result"
    }
   ],
   "source": [
    "soup.table.tr.next_element"
   ]
  },
  {
   "cell_type": "markdown",
   "metadata": {},
   "source": [
    "# Searching the tree\n",
    "https://beautiful-soup-4.readthedocs.io/en/latest/#searching-the-tree"
   ]
  },
  {
   "cell_type": "markdown",
   "metadata": {},
   "source": [
    "## Filters"
   ]
  },
  {
   "cell_type": "code",
   "execution_count": 25,
   "metadata": {},
   "outputs": [
    {
     "data": {
      "text/plain": [
       "[<a href=\"https://www.imdb.com/name/nm0000217/\">Martin Scorsese</a>,\n",
       " <a href=\"\">Dave</a>]"
      ]
     },
     "execution_count": 25,
     "metadata": {},
     "output_type": "execute_result"
    }
   ],
   "source": [
    "soup.find_all('a')"
   ]
  },
  {
   "cell_type": "code",
   "execution_count": 26,
   "metadata": {},
   "outputs": [
    {
     "data": {
      "text/plain": [
       "[<a href=\"https://www.imdb.com/name/nm0000217/\">Martin Scorsese</a>,\n",
       " <td><a href=\"\">Dave</a></td>,\n",
       " <a href=\"\">Dave</a>,\n",
       " <td>Lead</td>,\n",
       " <td>Barry</td>,\n",
       " <td>Supporting Role</td>,\n",
       " <td>Alejandro</td>,\n",
       " <td>Supporting Role</td>]"
      ]
     },
     "execution_count": 26,
     "metadata": {},
     "output_type": "execute_result"
    }
   ],
   "source": [
    "soup.find_all(['a', 'td'])"
   ]
  },
  {
   "cell_type": "markdown",
   "metadata": {},
   "source": [
    "### Function Filter"
   ]
  },
  {
   "cell_type": "markdown",
   "metadata": {},
   "source": [
    "A bit more challenging, though very useful.\n",
    "\n",
    "https://beautiful-soup-4.readthedocs.io/en/latest/index.html?highlight=navigablestring#a-function"
   ]
  },
  {
   "cell_type": "markdown",
   "metadata": {},
   "source": [
    "### Attributes"
   ]
  },
  {
   "cell_type": "code",
   "execution_count": 27,
   "metadata": {},
   "outputs": [
    {
     "data": {
      "text/plain": [
       "[<h1 class=\"title\" id=\"movie_title\">The Irishman</h1>]"
      ]
     },
     "execution_count": 27,
     "metadata": {},
     "output_type": "execute_result"
    }
   ],
   "source": [
    "soup.find_all(id='movie_title')"
   ]
  },
  {
   "cell_type": "code",
   "execution_count": 28,
   "metadata": {},
   "outputs": [
    {
     "data": {
      "text/plain": [
       "[<h1 class=\"title\" id=\"movie_title\">The Irishman</h1>]"
      ]
     },
     "execution_count": 28,
     "metadata": {},
     "output_type": "execute_result"
    }
   ],
   "source": [
    "soup.find_all('h1', class_='title')"
   ]
  },
  {
   "cell_type": "markdown",
   "metadata": {},
   "source": [
    "# Into the wild"
   ]
  },
  {
   "cell_type": "code",
   "execution_count": 31,
   "metadata": {},
   "outputs": [],
   "source": [
    "webpage = requests.get(\"https://www.imdb.com/title/tt1302006\")"
   ]
  },
  {
   "cell_type": "code",
   "execution_count": null,
   "metadata": {},
   "outputs": [],
   "source": [
    "print(webpage.content)"
   ]
  },
  {
   "cell_type": "code",
   "execution_count": 33,
   "metadata": {},
   "outputs": [],
   "source": [
    "soup = BeautifulSoup(webpage.content)"
   ]
  },
  {
   "cell_type": "code",
   "execution_count": 34,
   "metadata": {},
   "outputs": [],
   "source": [
    "# links = soup.find_all('a')\n",
    "links = soup.find_all(href=True)"
   ]
  },
  {
   "cell_type": "code",
   "execution_count": null,
   "metadata": {},
   "outputs": [],
   "source": [
    "for link in links:\n",
    "    print(type(link))\n",
    "    print(link.text)\n",
    "    print(link)"
   ]
  },
  {
   "cell_type": "code",
   "execution_count": 36,
   "metadata": {},
   "outputs": [
    {
     "data": {
      "text/plain": [
       "'https://www.imdb.com/title/tt1302006/'"
      ]
     },
     "execution_count": 36,
     "metadata": {},
     "output_type": "execute_result"
    }
   ],
   "source": [
    "links[0]['href']"
   ]
  },
  {
   "cell_type": "code",
   "execution_count": 37,
   "metadata": {},
   "outputs": [],
   "source": [
    "my_links = []\n",
    "for link in links:\n",
    "    wrapped = {'text':link.text,'url':link['href']}\n",
    "    my_links.append(wrapped)\n",
    "    "
   ]
  },
  {
   "cell_type": "code",
   "execution_count": null,
   "metadata": {},
   "outputs": [],
   "source": [
    "my_links\n",
    "# we get a lot of empty text fields"
   ]
  },
  {
   "cell_type": "markdown",
   "metadata": {},
   "source": [
    "# Presenting our Data"
   ]
  },
  {
   "cell_type": "code",
   "execution_count": 39,
   "metadata": {},
   "outputs": [],
   "source": [
    "df = pd.DataFrame(my_links)"
   ]
  },
  {
   "cell_type": "code",
   "execution_count": 40,
   "metadata": {},
   "outputs": [
    {
     "data": {
      "text/html": [
       "<div>\n",
       "<style scoped>\n",
       "    .dataframe tbody tr th:only-of-type {\n",
       "        vertical-align: middle;\n",
       "    }\n",
       "\n",
       "    .dataframe tbody tr th {\n",
       "        vertical-align: top;\n",
       "    }\n",
       "\n",
       "    .dataframe thead th {\n",
       "        text-align: right;\n",
       "    }\n",
       "</style>\n",
       "<table border=\"1\" class=\"dataframe\">\n",
       "  <thead>\n",
       "    <tr style=\"text-align: right;\">\n",
       "      <th></th>\n",
       "      <th>text</th>\n",
       "      <th>url</th>\n",
       "    </tr>\n",
       "  </thead>\n",
       "  <tbody>\n",
       "    <tr>\n",
       "      <td>0</td>\n",
       "      <td></td>\n",
       "      <td>https://www.imdb.com/title/tt1302006/</td>\n",
       "    </tr>\n",
       "    <tr>\n",
       "      <td>1</td>\n",
       "      <td></td>\n",
       "      <td>https://m.imdb.com/title/tt1302006/</td>\n",
       "    </tr>\n",
       "    <tr>\n",
       "      <td>2</td>\n",
       "      <td></td>\n",
       "      <td>https://m.media-amazon.com/images/G/01/imdb/im...</td>\n",
       "    </tr>\n",
       "    <tr>\n",
       "      <td>3</td>\n",
       "      <td></td>\n",
       "      <td>https://m.media-amazon.com/images/G/01/imdb/im...</td>\n",
       "    </tr>\n",
       "    <tr>\n",
       "      <td>4</td>\n",
       "      <td></td>\n",
       "      <td>https://m.media-amazon.com/images/G/01/imdb/im...</td>\n",
       "    </tr>\n",
       "    <tr>\n",
       "      <td>...</td>\n",
       "      <td>...</td>\n",
       "      <td>...</td>\n",
       "    </tr>\n",
       "    <tr>\n",
       "      <td>482</td>\n",
       "      <td>Advertising</td>\n",
       "      <td>https://advertising.amazon.com/products/displa...</td>\n",
       "    </tr>\n",
       "    <tr>\n",
       "      <td>483</td>\n",
       "      <td>Jobs</td>\n",
       "      <td>https://www.amazon.jobs/en/teams/imdb?ref_=ft_jb</td>\n",
       "    </tr>\n",
       "    <tr>\n",
       "      <td>484</td>\n",
       "      <td>Conditions of Use</td>\n",
       "      <td>/conditions?ref_=ft_cou</td>\n",
       "    </tr>\n",
       "    <tr>\n",
       "      <td>485</td>\n",
       "      <td>Privacy Policy</td>\n",
       "      <td>/privacy?ref_=ft_pvc</td>\n",
       "    </tr>\n",
       "    <tr>\n",
       "      <td>486</td>\n",
       "      <td>Interest-Based Ads</td>\n",
       "      <td>/offsite/?page-action=ft-iba&amp;token=BCYkhbJuRe7...</td>\n",
       "    </tr>\n",
       "  </tbody>\n",
       "</table>\n",
       "<p>487 rows × 2 columns</p>\n",
       "</div>"
      ],
      "text/plain": [
       "                    text                                                url\n",
       "0                                     https://www.imdb.com/title/tt1302006/\n",
       "1                                       https://m.imdb.com/title/tt1302006/\n",
       "2                         https://m.media-amazon.com/images/G/01/imdb/im...\n",
       "3                         https://m.media-amazon.com/images/G/01/imdb/im...\n",
       "4                         https://m.media-amazon.com/images/G/01/imdb/im...\n",
       "..                   ...                                                ...\n",
       "482         Advertising   https://advertising.amazon.com/products/displa...\n",
       "483                Jobs    https://www.amazon.jobs/en/teams/imdb?ref_=ft_jb\n",
       "484    Conditions of Use                            /conditions?ref_=ft_cou\n",
       "485       Privacy Policy                               /privacy?ref_=ft_pvc\n",
       "486  Interest-Based Ads   /offsite/?page-action=ft-iba&token=BCYkhbJuRe7...\n",
       "\n",
       "[487 rows x 2 columns]"
      ]
     },
     "execution_count": 40,
     "metadata": {},
     "output_type": "execute_result"
    }
   ],
   "source": [
    "df"
   ]
  },
  {
   "cell_type": "markdown",
   "metadata": {},
   "source": [
    "## Bonus Pandas Tricks"
   ]
  },
  {
   "cell_type": "code",
   "execution_count": null,
   "metadata": {},
   "outputs": [],
   "source": [
    "df.loc[df.text.str.len() > 0]"
   ]
  },
  {
   "cell_type": "code",
   "execution_count": null,
   "metadata": {},
   "outputs": [],
   "source": [
    "df.loc[df.url.str.startswith('http')]\n",
    "# Pandas documentation https://pandas.pydata.org/pandas-docs/stable/reference/api/pandas.Series.str.startswith.html"
   ]
  },
  {
   "cell_type": "code",
   "execution_count": null,
   "metadata": {},
   "outputs": [],
   "source": [
    "df.loc[df.text.str.contains('Scorsese')]"
   ]
  },
  {
   "cell_type": "markdown",
   "metadata": {},
   "source": [
    "# Applying what we know"
   ]
  },
  {
   "cell_type": "markdown",
   "metadata": {},
   "source": [
    "## What genre of films do actors mainly work in?"
   ]
  },
  {
   "cell_type": "code",
   "execution_count": 67,
   "metadata": {},
   "outputs": [],
   "source": [
    "actor = requests.get('https://www.imdb.com/name/nm0000134/?ref_=tt_cl_t1')"
   ]
  },
  {
   "cell_type": "code",
   "execution_count": 68,
   "metadata": {},
   "outputs": [],
   "source": [
    "soup = BeautifulSoup(actor.content)"
   ]
  },
  {
   "cell_type": "markdown",
   "metadata": {},
   "source": [
    "### Getting into the Filmography"
   ]
  },
  {
   "cell_type": "code",
   "execution_count": 69,
   "metadata": {},
   "outputs": [],
   "source": [
    "filmography = soup.find(id='filmography')"
   ]
  },
  {
   "cell_type": "code",
   "execution_count": 72,
   "metadata": {},
   "outputs": [],
   "source": [
    "actor_filmography = filmography.find('div', {'data-category' : 'actor'}).find_next('div', class_='filmo-category-section')"
   ]
  },
  {
   "cell_type": "code",
   "execution_count": 73,
   "metadata": {},
   "outputs": [],
   "source": [
    "# Break up the above\n",
    "actor_filmography = filmography.find('div', {'data-category' : 'actor'})\n",
    "actor_filmography = actor_filmography.find_next('div', class_='filmo-category-section')"
   ]
  },
  {
   "cell_type": "code",
   "execution_count": 74,
   "metadata": {},
   "outputs": [],
   "source": [
    "film_links = actor_filmography.find_all(href=True)"
   ]
  },
  {
   "cell_type": "markdown",
   "metadata": {},
   "source": [
    "## Let's see those links"
   ]
  },
  {
   "cell_type": "code",
   "execution_count": null,
   "metadata": {},
   "outputs": [],
   "source": [
    "for link in film_links:\n",
    "    print(link['href'])"
   ]
  },
  {
   "cell_type": "code",
   "execution_count": null,
   "metadata": {},
   "outputs": [],
   "source": [
    "baselink = 'https://www.imdb.com'\n",
    "for link in films:\n",
    "    if link['href'].startswith('/'):\n",
    "        print(baselink + link['href'])"
   ]
  },
  {
   "cell_type": "markdown",
   "metadata": {},
   "source": [
    "## Collecting Genres"
   ]
  },
  {
   "cell_type": "code",
   "execution_count": 79,
   "metadata": {},
   "outputs": [
    {
     "name": "stdout",
     "output_type": "stream",
     "text": [
      "[<a href=\"/search/title?genres=action&amp;explore=title_type,genres\">Action</a>]\n",
      "[<a href=\"/search/title?genres=crime&amp;explore=title_type,genres\">Crime</a>, <a href=\"/search/title?genres=drama&amp;explore=title_type,genres\">Drama</a>]\n",
      "[<a href=\"/search/title?genres=crime&amp;explore=title_type,genres\">Crime</a>, <a href=\"/search/title?genres=drama&amp;explore=title_type,genres\">Drama</a>, <a href=\"/search/title?genres=history&amp;explore=title_type,genres\">History</a>, <a href=\"/title/tt5537002/releaseinfo\" title=\"See more release dates\">2021 (USA)\n",
      "</a>]\n"
     ]
    }
   ],
   "source": [
    "baselink = 'https://www.imdb.com'\n",
    "for link in film_links[:5]:\n",
    "    if link['href'].startswith('/'):\n",
    "        \n",
    "        # CRAWL into another page\n",
    "        \n",
    "        url = baselink + link['href']\n",
    "        page = requests.get(url)\n",
    "        soup = BeautifulSoup(page.content)\n",
    "        subtext = soup.find('div', class_='subtext').find_all(href=True)\n",
    "        print(subtext)"
   ]
  },
  {
   "cell_type": "code",
   "execution_count": 142,
   "metadata": {},
   "outputs": [],
   "source": [
    "baselink = 'https://www.imdb.com'\n",
    "\n",
    "# Somewhere to store our genres:\n",
    "genres = []\n",
    "\n",
    "# to search our for genre:\n",
    "genre = re.compile('genre')\n",
    "    \n",
    "for link in film_links[:5]:\n",
    "    if link['href'].startswith('/'):\n",
    "        url = baselink + link['href']\n",
    "        page = requests.get(url)\n",
    "        soup = BeautifulSoup(page.content)\n",
    "        subtext = soup.find('div', class_='subtext').find_all(href=genre, text=True)\n",
    "        for g in subtext:\n",
    "            genres.append(g.text)"
   ]
  },
  {
   "cell_type": "code",
   "execution_count": 143,
   "metadata": {},
   "outputs": [
    {
     "data": {
      "text/plain": [
       "['Action', 'Crime', 'Drama', 'Crime', 'Drama', 'History']"
      ]
     },
     "execution_count": 143,
     "metadata": {},
     "output_type": "execute_result"
    }
   ],
   "source": [
    "genres"
   ]
  },
  {
   "cell_type": "markdown",
   "metadata": {},
   "source": [
    "### Collecting more actors"
   ]
  },
  {
   "cell_type": "code",
   "execution_count": 150,
   "metadata": {},
   "outputs": [],
   "source": [
    "name = re.compile('name')\n",
    "actors = []\n",
    "cache = []\n",
    "\n",
    "for link in film_links[:5]:\n",
    "    if link['href'].startswith('/'):\n",
    "        url = baselink + link['href']\n",
    "        page = requests.get(url)\n",
    "        soup = BeautifulSoup(page.content)\n",
    "        _actors = soup.find('table', class_='cast_list').find_all(href=name, text=True)\n",
    "        for a in _actors:\n",
    "            actors.append(a.text.strip('\\n')[1:])\n",
    "            cache.append(baselink+a['href'])"
   ]
  },
  {
   "cell_type": "code",
   "execution_count": 151,
   "metadata": {},
   "outputs": [
    {
     "data": {
      "text/plain": [
       "['Robert De Niro',\n",
       " 'Edgar Ramírez',\n",
       " 'Robert De Niro',\n",
       " 'Chloë Grace Moretz',\n",
       " 'Shailene Woodley',\n",
       " 'Miles Teller',\n",
       " 'Robert De Niro',\n",
       " 'Leonardo DiCaprio']"
      ]
     },
     "execution_count": 151,
     "metadata": {},
     "output_type": "execute_result"
    }
   ],
   "source": [
    "actors"
   ]
  },
  {
   "cell_type": "code",
   "execution_count": 86,
   "metadata": {},
   "outputs": [
    {
     "data": {
      "text/plain": [
       "['https://www.imdb.com/name/nm0000134/',\n",
       " 'https://www.imdb.com/name/nm0000134/',\n",
       " 'https://www.imdb.com/name/nm1183149/',\n",
       " 'https://www.imdb.com/name/nm1183149/',\n",
       " 'https://www.imdb.com/name/nm0000134/',\n",
       " 'https://www.imdb.com/name/nm0000134/',\n",
       " 'https://www.imdb.com/name/nm1631269/',\n",
       " 'https://www.imdb.com/name/nm1631269/',\n",
       " 'https://www.imdb.com/name/nm0940362/',\n",
       " 'https://www.imdb.com/name/nm0940362/',\n",
       " 'https://www.imdb.com/name/nm1886602/',\n",
       " 'https://www.imdb.com/name/nm1886602/',\n",
       " 'https://www.imdb.com/name/nm0000134/',\n",
       " 'https://www.imdb.com/name/nm0000134/',\n",
       " 'https://www.imdb.com/name/nm0000138/',\n",
       " 'https://www.imdb.com/name/nm0000138/']"
      ]
     },
     "execution_count": 86,
     "metadata": {},
     "output_type": "execute_result"
    }
   ],
   "source": [
    "cache"
   ]
  },
  {
   "cell_type": "code",
   "execution_count": null,
   "metadata": {},
   "outputs": [],
   "source": []
  },
  {
   "cell_type": "markdown",
   "metadata": {},
   "source": [
    "## Crawling"
   ]
  },
  {
   "cell_type": "code",
   "execution_count": 621,
   "metadata": {},
   "outputs": [],
   "source": [
    "cache = ['https://www.imdb.com/title/tt1302006']\n",
    "log  = []\n",
    "limit = 20"
   ]
  },
  {
   "cell_type": "code",
   "execution_count": 622,
   "metadata": {},
   "outputs": [],
   "source": [
    "films = []"
   ]
  },
  {
   "cell_type": "code",
   "execution_count": 623,
   "metadata": {},
   "outputs": [],
   "source": [
    "baselink = 'https://www.imdb.com'"
   ]
  },
  {
   "cell_type": "code",
   "execution_count": 624,
   "metadata": {},
   "outputs": [],
   "source": [
    "genre = re.compile('genre')\n",
    "name = re.compile('name')\n",
    "title = re.compile('title')"
   ]
  },
  {
   "cell_type": "code",
   "execution_count": 625,
   "metadata": {},
   "outputs": [],
   "source": [
    "while len(films) < limit:\n",
    "    for film_link in cache[:limit]:\n",
    "        if film_link not in log:\n",
    "            \n",
    "            \n",
    "            webpage = requests.get(film_link)\n",
    "            soup = BeautifulSoup(webpage.content)\n",
    "            film_name = soup.find('h1').text.strip('\\n')\n",
    "            \n",
    "\n",
    "            genres = []\n",
    "            _genres = soup.find('div', class_='subtext').find_all(href=genre, text=True)\n",
    "            for g in _genres:\n",
    "                genres.append(g.text)\n",
    "            \n",
    "            actors = []\n",
    "            _actors = soup.find('table', class_='cast_list').find_all(href=name, text=True)\n",
    "            for a in _actors:\n",
    "                actors.append(a.text.strip('\\n')[1:])\n",
    "                _cache.append(baselink+a['href'])\n",
    "            \n",
    "            duration = soup.find('div', class_='subtext').find('time', text=True).text\n",
    "            \n",
    "            log.append(film_link)\n",
    "            more_films = soup.find('div', class_='rec_page').find_all('a')\n",
    "            _cache = [baselink+x['href'] for x in more_films if x not in log]\n",
    "\n",
    "            films.append({'film_name': film_name, 'genres' : genres, 'actors': actors, 'duration':duration})\n",
    "\n",
    "    cache = _cache"
   ]
  },
  {
   "cell_type": "markdown",
   "metadata": {},
   "source": [
    "# Present out data in Pandas"
   ]
  },
  {
   "cell_type": "code",
   "execution_count": 626,
   "metadata": {},
   "outputs": [],
   "source": [
    "df = pd.DataFrame(films)"
   ]
  },
  {
   "cell_type": "code",
   "execution_count": 627,
   "metadata": {},
   "outputs": [
    {
     "data": {
      "text/html": [
       "<div>\n",
       "<style scoped>\n",
       "    .dataframe tbody tr th:only-of-type {\n",
       "        vertical-align: middle;\n",
       "    }\n",
       "\n",
       "    .dataframe tbody tr th {\n",
       "        vertical-align: top;\n",
       "    }\n",
       "\n",
       "    .dataframe thead th {\n",
       "        text-align: right;\n",
       "    }\n",
       "</style>\n",
       "<table border=\"1\" class=\"dataframe\">\n",
       "  <thead>\n",
       "    <tr style=\"text-align: right;\">\n",
       "      <th></th>\n",
       "      <th>film_name</th>\n",
       "      <th>genres</th>\n",
       "      <th>actors</th>\n",
       "      <th>duration</th>\n",
       "    </tr>\n",
       "  </thead>\n",
       "  <tbody>\n",
       "    <tr>\n",
       "      <td>0</td>\n",
       "      <td>The Irishman (2019)</td>\n",
       "      <td>[Biography, Crime, Drama]</td>\n",
       "      <td>[Robert De Niro, Al Pacino, Joe Pesci, Harvey ...</td>\n",
       "      <td>\\n                        3h 29min\\n          ...</td>\n",
       "    </tr>\n",
       "    <tr>\n",
       "      <td>1</td>\n",
       "      <td>Once Upon a Time... in Hollywood (2019)</td>\n",
       "      <td>[Comedy, Drama]</td>\n",
       "      <td>[Leonardo DiCaprio, Brad Pitt, Margot Robbie, ...</td>\n",
       "      <td>\\n                        2h 41min\\n          ...</td>\n",
       "    </tr>\n",
       "    <tr>\n",
       "      <td>2</td>\n",
       "      <td>Joker (2019)</td>\n",
       "      <td>[Crime, Drama, Thriller]</td>\n",
       "      <td>[Joaquin Phoenix, Robert De Niro, Zazie Beetz,...</td>\n",
       "      <td>\\n                        2h 2min\\n           ...</td>\n",
       "    </tr>\n",
       "    <tr>\n",
       "      <td>3</td>\n",
       "      <td>Goodfellas (1990)</td>\n",
       "      <td>[Biography, Crime, Drama]</td>\n",
       "      <td>[Robert De Niro, Ray Liotta, Joe Pesci, Lorrai...</td>\n",
       "      <td>\\n                        2h 26min\\n          ...</td>\n",
       "    </tr>\n",
       "    <tr>\n",
       "      <td>4</td>\n",
       "      <td>Casino (1995)</td>\n",
       "      <td>[Crime, Drama]</td>\n",
       "      <td>[Robert De Niro, Sharon Stone, Joe Pesci, Jame...</td>\n",
       "      <td>\\n                        2h 58min\\n          ...</td>\n",
       "    </tr>\n",
       "    <tr>\n",
       "      <td>5</td>\n",
       "      <td>The King (2019)</td>\n",
       "      <td>[Biography, Drama, History]</td>\n",
       "      <td>[Tom Glynn-Carney, Gábor Czap, Tom Fisher, Edw...</td>\n",
       "      <td>\\n                        2h 20min\\n          ...</td>\n",
       "    </tr>\n",
       "    <tr>\n",
       "      <td>6</td>\n",
       "      <td>Gisaengchung (2019)</td>\n",
       "      <td>[Comedy, Drama, Thriller]</td>\n",
       "      <td>[Kang-ho Song, Sun-kyun Lee, Yeo-jeong Jo, Woo...</td>\n",
       "      <td>\\n                        2h 12min\\n          ...</td>\n",
       "    </tr>\n",
       "    <tr>\n",
       "      <td>7</td>\n",
       "      <td>The Lighthouse (2019)</td>\n",
       "      <td>[Drama, Fantasy, Horror]</td>\n",
       "      <td>[Willem Dafoe, Robert Pattinson, Valeriia Kara...</td>\n",
       "      <td>\\n                        1h 49min\\n          ...</td>\n",
       "    </tr>\n",
       "    <tr>\n",
       "      <td>8</td>\n",
       "      <td>Us (2019)</td>\n",
       "      <td>[Horror, Mystery, Thriller]</td>\n",
       "      <td>[Lupita Nyong'o, Winston Duke, Elisabeth Moss,...</td>\n",
       "      <td>\\n                        1h 56min\\n          ...</td>\n",
       "    </tr>\n",
       "    <tr>\n",
       "      <td>9</td>\n",
       "      <td>Midsommar (2019)</td>\n",
       "      <td>[Drama, Horror, Mystery]</td>\n",
       "      <td>[Florence Pugh, Jack Reynor, Vilhelm Blomgren,...</td>\n",
       "      <td>\\n                        2h 27min\\n          ...</td>\n",
       "    </tr>\n",
       "    <tr>\n",
       "      <td>10</td>\n",
       "      <td>Avengers: Endgame (2019)</td>\n",
       "      <td>[Action, Adventure, Drama]</td>\n",
       "      <td>[Robert Downey Jr., Chris Evans, Mark Ruffalo,...</td>\n",
       "      <td>\\n                        3h 1min\\n           ...</td>\n",
       "    </tr>\n",
       "    <tr>\n",
       "      <td>11</td>\n",
       "      <td>Captain Marvel (2019)</td>\n",
       "      <td>[Action, Adventure, Sci-Fi]</td>\n",
       "      <td>[Brie Larson, Samuel L. Jackson, Ben Mendelsoh...</td>\n",
       "      <td>\\n                        2h 3min\\n           ...</td>\n",
       "    </tr>\n",
       "    <tr>\n",
       "      <td>12</td>\n",
       "      <td>Avengers: Infinity War (2018)</td>\n",
       "      <td>[Action, Adventure, Sci-Fi]</td>\n",
       "      <td>[Robert Downey Jr., Chris Hemsworth, Mark Ruff...</td>\n",
       "      <td>\\n                        2h 29min\\n          ...</td>\n",
       "    </tr>\n",
       "    <tr>\n",
       "      <td>13</td>\n",
       "      <td>Star Wars: Episode VIII - The Last Jedi (2017)</td>\n",
       "      <td>[Action, Adventure, Fantasy]</td>\n",
       "      <td>[Mark Hamill, Carrie Fisher, Adam Driver, Dais...</td>\n",
       "      <td>\\n                        2h 32min\\n          ...</td>\n",
       "    </tr>\n",
       "    <tr>\n",
       "      <td>14</td>\n",
       "      <td>Thor: Ragnarok (2017)</td>\n",
       "      <td>[Action, Adventure, Comedy]</td>\n",
       "      <td>[Chris Hemsworth, Tom Hiddleston, Cate Blanche...</td>\n",
       "      <td>\\n                        2h 10min\\n          ...</td>\n",
       "    </tr>\n",
       "    <tr>\n",
       "      <td>15</td>\n",
       "      <td>Captain America: Civil War (2016)</td>\n",
       "      <td>[Action, Adventure, Sci-Fi]</td>\n",
       "      <td>[Chris Evans, Robert Downey Jr., Scarlett Joha...</td>\n",
       "      <td>\\n                        2h 27min\\n          ...</td>\n",
       "    </tr>\n",
       "    <tr>\n",
       "      <td>16</td>\n",
       "      <td>Guardians of the Galaxy (2014)</td>\n",
       "      <td>[Action, Adventure, Comedy]</td>\n",
       "      <td>[Chris Pratt, Zoe Saldana, Dave Bautista, Vin ...</td>\n",
       "      <td>\\n                        2h 1min\\n           ...</td>\n",
       "    </tr>\n",
       "    <tr>\n",
       "      <td>17</td>\n",
       "      <td>Black Panther (2018)</td>\n",
       "      <td>[Action, Adventure, Sci-Fi]</td>\n",
       "      <td>[Chadwick Boseman, Michael B. Jordan, Lupita N...</td>\n",
       "      <td>\\n                        2h 14min\\n          ...</td>\n",
       "    </tr>\n",
       "    <tr>\n",
       "      <td>18</td>\n",
       "      <td>Doctor Strange (2016)</td>\n",
       "      <td>[Action, Adventure, Fantasy]</td>\n",
       "      <td>[Benedict Cumberbatch, Chiwetel Ejiofor, Rache...</td>\n",
       "      <td>\\n                        1h 55min\\n          ...</td>\n",
       "    </tr>\n",
       "    <tr>\n",
       "      <td>19</td>\n",
       "      <td>Guardians of the Galaxy Vol. 2 (2017)</td>\n",
       "      <td>[Action, Adventure, Comedy]</td>\n",
       "      <td>[Chris Pratt, Zoe Saldana, Dave Bautista, Vin ...</td>\n",
       "      <td>\\n                        2h 16min\\n          ...</td>\n",
       "    </tr>\n",
       "  </tbody>\n",
       "</table>\n",
       "</div>"
      ],
      "text/plain": [
       "                                          film_name  \\\n",
       "0                              The Irishman (2019)    \n",
       "1          Once Upon a Time... in Hollywood (2019)    \n",
       "2                                     Joker (2019)    \n",
       "3                                Goodfellas (1990)    \n",
       "4                                    Casino (1995)    \n",
       "5                                  The King (2019)    \n",
       "6                              Gisaengchung (2019)    \n",
       "7                            The Lighthouse (2019)    \n",
       "8                                        Us (2019)    \n",
       "9                                 Midsommar (2019)    \n",
       "10                        Avengers: Endgame (2019)    \n",
       "11                           Captain Marvel (2019)    \n",
       "12                   Avengers: Infinity War (2018)    \n",
       "13  Star Wars: Episode VIII - The Last Jedi (2017)    \n",
       "14                           Thor: Ragnarok (2017)    \n",
       "15               Captain America: Civil War (2016)    \n",
       "16                  Guardians of the Galaxy (2014)    \n",
       "17                            Black Panther (2018)    \n",
       "18                           Doctor Strange (2016)    \n",
       "19           Guardians of the Galaxy Vol. 2 (2017)    \n",
       "\n",
       "                          genres  \\\n",
       "0      [Biography, Crime, Drama]   \n",
       "1                [Comedy, Drama]   \n",
       "2       [Crime, Drama, Thriller]   \n",
       "3      [Biography, Crime, Drama]   \n",
       "4                 [Crime, Drama]   \n",
       "5    [Biography, Drama, History]   \n",
       "6      [Comedy, Drama, Thriller]   \n",
       "7       [Drama, Fantasy, Horror]   \n",
       "8    [Horror, Mystery, Thriller]   \n",
       "9       [Drama, Horror, Mystery]   \n",
       "10    [Action, Adventure, Drama]   \n",
       "11   [Action, Adventure, Sci-Fi]   \n",
       "12   [Action, Adventure, Sci-Fi]   \n",
       "13  [Action, Adventure, Fantasy]   \n",
       "14   [Action, Adventure, Comedy]   \n",
       "15   [Action, Adventure, Sci-Fi]   \n",
       "16   [Action, Adventure, Comedy]   \n",
       "17   [Action, Adventure, Sci-Fi]   \n",
       "18  [Action, Adventure, Fantasy]   \n",
       "19   [Action, Adventure, Comedy]   \n",
       "\n",
       "                                               actors  \\\n",
       "0   [Robert De Niro, Al Pacino, Joe Pesci, Harvey ...   \n",
       "1   [Leonardo DiCaprio, Brad Pitt, Margot Robbie, ...   \n",
       "2   [Joaquin Phoenix, Robert De Niro, Zazie Beetz,...   \n",
       "3   [Robert De Niro, Ray Liotta, Joe Pesci, Lorrai...   \n",
       "4   [Robert De Niro, Sharon Stone, Joe Pesci, Jame...   \n",
       "5   [Tom Glynn-Carney, Gábor Czap, Tom Fisher, Edw...   \n",
       "6   [Kang-ho Song, Sun-kyun Lee, Yeo-jeong Jo, Woo...   \n",
       "7   [Willem Dafoe, Robert Pattinson, Valeriia Kara...   \n",
       "8   [Lupita Nyong'o, Winston Duke, Elisabeth Moss,...   \n",
       "9   [Florence Pugh, Jack Reynor, Vilhelm Blomgren,...   \n",
       "10  [Robert Downey Jr., Chris Evans, Mark Ruffalo,...   \n",
       "11  [Brie Larson, Samuel L. Jackson, Ben Mendelsoh...   \n",
       "12  [Robert Downey Jr., Chris Hemsworth, Mark Ruff...   \n",
       "13  [Mark Hamill, Carrie Fisher, Adam Driver, Dais...   \n",
       "14  [Chris Hemsworth, Tom Hiddleston, Cate Blanche...   \n",
       "15  [Chris Evans, Robert Downey Jr., Scarlett Joha...   \n",
       "16  [Chris Pratt, Zoe Saldana, Dave Bautista, Vin ...   \n",
       "17  [Chadwick Boseman, Michael B. Jordan, Lupita N...   \n",
       "18  [Benedict Cumberbatch, Chiwetel Ejiofor, Rache...   \n",
       "19  [Chris Pratt, Zoe Saldana, Dave Bautista, Vin ...   \n",
       "\n",
       "                                             duration  \n",
       "0   \\n                        3h 29min\\n          ...  \n",
       "1   \\n                        2h 41min\\n          ...  \n",
       "2   \\n                        2h 2min\\n           ...  \n",
       "3   \\n                        2h 26min\\n          ...  \n",
       "4   \\n                        2h 58min\\n          ...  \n",
       "5   \\n                        2h 20min\\n          ...  \n",
       "6   \\n                        2h 12min\\n          ...  \n",
       "7   \\n                        1h 49min\\n          ...  \n",
       "8   \\n                        1h 56min\\n          ...  \n",
       "9   \\n                        2h 27min\\n          ...  \n",
       "10  \\n                        3h 1min\\n           ...  \n",
       "11  \\n                        2h 3min\\n           ...  \n",
       "12  \\n                        2h 29min\\n          ...  \n",
       "13  \\n                        2h 32min\\n          ...  \n",
       "14  \\n                        2h 10min\\n          ...  \n",
       "15  \\n                        2h 27min\\n          ...  \n",
       "16  \\n                        2h 1min\\n           ...  \n",
       "17  \\n                        2h 14min\\n          ...  \n",
       "18  \\n                        1h 55min\\n          ...  \n",
       "19  \\n                        2h 16min\\n          ...  "
      ]
     },
     "execution_count": 627,
     "metadata": {},
     "output_type": "execute_result"
    }
   ],
   "source": [
    "df"
   ]
  },
  {
   "cell_type": "markdown",
   "metadata": {},
   "source": [
    "## Tidy Data"
   ]
  },
  {
   "cell_type": "code",
   "execution_count": 633,
   "metadata": {},
   "outputs": [],
   "source": [
    "def get_date(rough):\n",
    "    time = rough[-8:-3]\n",
    "    hours = int(time[0])\n",
    "    minutes = int(time[2:])\n",
    "    return (hours*60)+minutes\n",
    "\n",
    "df['minutes'] = df.duration.str.strip().apply(get_date)"
   ]
  },
  {
   "cell_type": "markdown",
   "metadata": {},
   "source": [
    "## Re format data"
   ]
  },
  {
   "cell_type": "code",
   "execution_count": 634,
   "metadata": {},
   "outputs": [],
   "source": [
    "genres_df = pd.DataFrame(df.genres.explode())\n",
    "actors_df = pd.DataFrame(df.actors.explode())"
   ]
  },
  {
   "cell_type": "markdown",
   "metadata": {},
   "source": [
    "### Merge new 'series'"
   ]
  },
  {
   "cell_type": "code",
   "execution_count": 635,
   "metadata": {},
   "outputs": [],
   "source": [
    "genre_actors_merged = actors_df.merge(genres_df,left_index=True, right_index=True)"
   ]
  },
  {
   "cell_type": "code",
   "execution_count": 636,
   "metadata": {},
   "outputs": [],
   "source": [
    "genre_actors_merged['film_name'] = df['film_name']\n",
    "genre_actors_merged['minutes'] = df['minutes']"
   ]
  },
  {
   "cell_type": "code",
   "execution_count": 637,
   "metadata": {},
   "outputs": [
    {
     "data": {
      "text/html": [
       "<div>\n",
       "<style scoped>\n",
       "    .dataframe tbody tr th:only-of-type {\n",
       "        vertical-align: middle;\n",
       "    }\n",
       "\n",
       "    .dataframe tbody tr th {\n",
       "        vertical-align: top;\n",
       "    }\n",
       "\n",
       "    .dataframe thead th {\n",
       "        text-align: right;\n",
       "    }\n",
       "</style>\n",
       "<table border=\"1\" class=\"dataframe\">\n",
       "  <thead>\n",
       "    <tr style=\"text-align: right;\">\n",
       "      <th></th>\n",
       "      <th>actors</th>\n",
       "      <th>genres</th>\n",
       "      <th>film_name</th>\n",
       "      <th>minutes</th>\n",
       "    </tr>\n",
       "  </thead>\n",
       "  <tbody>\n",
       "    <tr>\n",
       "      <td>0</td>\n",
       "      <td>Robert De Niro</td>\n",
       "      <td>Biography</td>\n",
       "      <td>The Irishman (2019)</td>\n",
       "      <td>209</td>\n",
       "    </tr>\n",
       "    <tr>\n",
       "      <td>0</td>\n",
       "      <td>Robert De Niro</td>\n",
       "      <td>Crime</td>\n",
       "      <td>The Irishman (2019)</td>\n",
       "      <td>209</td>\n",
       "    </tr>\n",
       "    <tr>\n",
       "      <td>0</td>\n",
       "      <td>Robert De Niro</td>\n",
       "      <td>Drama</td>\n",
       "      <td>The Irishman (2019)</td>\n",
       "      <td>209</td>\n",
       "    </tr>\n",
       "    <tr>\n",
       "      <td>0</td>\n",
       "      <td>Al Pacino</td>\n",
       "      <td>Biography</td>\n",
       "      <td>The Irishman (2019)</td>\n",
       "      <td>209</td>\n",
       "    </tr>\n",
       "    <tr>\n",
       "      <td>0</td>\n",
       "      <td>Al Pacino</td>\n",
       "      <td>Crime</td>\n",
       "      <td>The Irishman (2019)</td>\n",
       "      <td>209</td>\n",
       "    </tr>\n",
       "    <tr>\n",
       "      <td>...</td>\n",
       "      <td>...</td>\n",
       "      <td>...</td>\n",
       "      <td>...</td>\n",
       "      <td>...</td>\n",
       "    </tr>\n",
       "    <tr>\n",
       "      <td>19</td>\n",
       "      <td>Tommy Flanagan</td>\n",
       "      <td>Adventure</td>\n",
       "      <td>Guardians of the Galaxy Vol. 2 (2017)</td>\n",
       "      <td>136</td>\n",
       "    </tr>\n",
       "    <tr>\n",
       "      <td>19</td>\n",
       "      <td>Tommy Flanagan</td>\n",
       "      <td>Comedy</td>\n",
       "      <td>Guardians of the Galaxy Vol. 2 (2017)</td>\n",
       "      <td>136</td>\n",
       "    </tr>\n",
       "    <tr>\n",
       "      <td>19</td>\n",
       "      <td>Laura Haddock</td>\n",
       "      <td>Action</td>\n",
       "      <td>Guardians of the Galaxy Vol. 2 (2017)</td>\n",
       "      <td>136</td>\n",
       "    </tr>\n",
       "    <tr>\n",
       "      <td>19</td>\n",
       "      <td>Laura Haddock</td>\n",
       "      <td>Adventure</td>\n",
       "      <td>Guardians of the Galaxy Vol. 2 (2017)</td>\n",
       "      <td>136</td>\n",
       "    </tr>\n",
       "    <tr>\n",
       "      <td>19</td>\n",
       "      <td>Laura Haddock</td>\n",
       "      <td>Comedy</td>\n",
       "      <td>Guardians of the Galaxy Vol. 2 (2017)</td>\n",
       "      <td>136</td>\n",
       "    </tr>\n",
       "  </tbody>\n",
       "</table>\n",
       "<p>834 rows × 4 columns</p>\n",
       "</div>"
      ],
      "text/plain": [
       "            actors     genres                               film_name  minutes\n",
       "0   Robert De Niro  Biography                    The Irishman (2019)       209\n",
       "0   Robert De Niro      Crime                    The Irishman (2019)       209\n",
       "0   Robert De Niro      Drama                    The Irishman (2019)       209\n",
       "0        Al Pacino  Biography                    The Irishman (2019)       209\n",
       "0        Al Pacino      Crime                    The Irishman (2019)       209\n",
       "..             ...        ...                                     ...      ...\n",
       "19  Tommy Flanagan  Adventure  Guardians of the Galaxy Vol. 2 (2017)       136\n",
       "19  Tommy Flanagan     Comedy  Guardians of the Galaxy Vol. 2 (2017)       136\n",
       "19   Laura Haddock     Action  Guardians of the Galaxy Vol. 2 (2017)       136\n",
       "19   Laura Haddock  Adventure  Guardians of the Galaxy Vol. 2 (2017)       136\n",
       "19   Laura Haddock     Comedy  Guardians of the Galaxy Vol. 2 (2017)       136\n",
       "\n",
       "[834 rows x 4 columns]"
      ]
     },
     "execution_count": 637,
     "metadata": {},
     "output_type": "execute_result"
    }
   ],
   "source": [
    "genre_actors_merged"
   ]
  },
  {
   "cell_type": "markdown",
   "metadata": {},
   "source": [
    "### House Keeping"
   ]
  },
  {
   "cell_type": "code",
   "execution_count": 638,
   "metadata": {},
   "outputs": [],
   "source": [
    "df = genre_actors_merged.reset_index()[['actors','genres','film_name','minutes']]"
   ]
  },
  {
   "cell_type": "code",
   "execution_count": 639,
   "metadata": {},
   "outputs": [],
   "source": [
    "df.columns = ['actor','genre','film', 'minutes']"
   ]
  },
  {
   "cell_type": "markdown",
   "metadata": {},
   "source": [
    "# Show duration by genre"
   ]
  },
  {
   "cell_type": "code",
   "execution_count": 640,
   "metadata": {},
   "outputs": [
    {
     "data": {
      "text/html": [
       "<div>\n",
       "<style scoped>\n",
       "    .dataframe tbody tr th:only-of-type {\n",
       "        vertical-align: middle;\n",
       "    }\n",
       "\n",
       "    .dataframe tbody tr th {\n",
       "        vertical-align: top;\n",
       "    }\n",
       "\n",
       "    .dataframe thead th {\n",
       "        text-align: right;\n",
       "    }\n",
       "</style>\n",
       "<table border=\"1\" class=\"dataframe\">\n",
       "  <thead>\n",
       "    <tr style=\"text-align: right;\">\n",
       "      <th></th>\n",
       "      <th>minutes</th>\n",
       "    </tr>\n",
       "    <tr>\n",
       "      <th>genre</th>\n",
       "      <th></th>\n",
       "    </tr>\n",
       "  </thead>\n",
       "  <tbody>\n",
       "    <tr>\n",
       "      <td>Action</td>\n",
       "      <td>138.800000</td>\n",
       "    </tr>\n",
       "    <tr>\n",
       "      <td>Adventure</td>\n",
       "      <td>138.800000</td>\n",
       "    </tr>\n",
       "    <tr>\n",
       "      <td>Biography</td>\n",
       "      <td>165.000000</td>\n",
       "    </tr>\n",
       "    <tr>\n",
       "      <td>Comedy</td>\n",
       "      <td>136.000000</td>\n",
       "    </tr>\n",
       "    <tr>\n",
       "      <td>Crime</td>\n",
       "      <td>163.750000</td>\n",
       "    </tr>\n",
       "    <tr>\n",
       "      <td>Drama</td>\n",
       "      <td>156.282609</td>\n",
       "    </tr>\n",
       "    <tr>\n",
       "      <td>Fantasy</td>\n",
       "      <td>131.272727</td>\n",
       "    </tr>\n",
       "    <tr>\n",
       "      <td>History</td>\n",
       "      <td>140.000000</td>\n",
       "    </tr>\n",
       "    <tr>\n",
       "      <td>Horror</td>\n",
       "      <td>129.454545</td>\n",
       "    </tr>\n",
       "    <tr>\n",
       "      <td>Mystery</td>\n",
       "      <td>131.500000</td>\n",
       "    </tr>\n",
       "    <tr>\n",
       "      <td>Sci-Fi</td>\n",
       "      <td>138.250000</td>\n",
       "    </tr>\n",
       "    <tr>\n",
       "      <td>Thriller</td>\n",
       "      <td>123.333333</td>\n",
       "    </tr>\n",
       "  </tbody>\n",
       "</table>\n",
       "</div>"
      ],
      "text/plain": [
       "              minutes\n",
       "genre                \n",
       "Action     138.800000\n",
       "Adventure  138.800000\n",
       "Biography  165.000000\n",
       "Comedy     136.000000\n",
       "Crime      163.750000\n",
       "Drama      156.282609\n",
       "Fantasy    131.272727\n",
       "History    140.000000\n",
       "Horror     129.454545\n",
       "Mystery    131.500000\n",
       "Sci-Fi     138.250000\n",
       "Thriller   123.333333"
      ]
     },
     "execution_count": 640,
     "metadata": {},
     "output_type": "execute_result"
    }
   ],
   "source": [
    "df[['minutes','genre']].groupby('genre').mean()"
   ]
  }
 ],
 "metadata": {
  "kernelspec": {
   "display_name": "Python 3",
   "language": "python",
   "name": "python3"
  },
  "language_info": {
   "codemirror_mode": {
    "name": "ipython",
    "version": 3
   },
   "file_extension": ".py",
   "mimetype": "text/x-python",
   "name": "python",
   "nbconvert_exporter": "python",
   "pygments_lexer": "ipython3",
   "version": "3.7.4"
  }
 },
 "nbformat": 4,
 "nbformat_minor": 4
}
